{
 "cells": [
  {
   "cell_type": "code",
   "execution_count": 72,
   "id": "8dc10bf1",
   "metadata": {},
   "outputs": [],
   "source": [
    "import json\n",
    "import jsonlines\n",
    "import numpy as np\n",
    "import tqdm\n",
    "from tqdm import tqdm\n",
    "import numpy as np\n",
    "from dawid_skene import dawid_skene\n",
    "import json\n",
    "from collections import defaultdict\n",
    "from sklearn.cluster import SpectralClustering"
   ]
  },
  {
   "cell_type": "code",
   "execution_count": 73,
   "id": "e055086e",
   "metadata": {},
   "outputs": [],
   "source": [
    "def p(r, c):\n",
    "    R, C = np.shape(adjacency_matrix)\n",
    "\n",
    "    if np.isnan(adjacency_matrix[r, c]):\n",
    "        adjacency_matrix[r, c] = sum(p(r, k) * p(k, c) for k in range(C))\n",
    "\n",
    "    return adjacency_matrix[r, c]"
   ]
  },
  {
   "cell_type": "code",
   "execution_count": 74,
   "id": "1e3a09a3",
   "metadata": {},
   "outputs": [],
   "source": [
    "def complete(adjacency_matrix):\n",
    "    R, C = np.shape(adjacency_matrix)\n",
    "    ## For each nan entry (r, c), fill it in with sum(p(r, k) * p(k, c) for all r -> k)\n",
    "\n",
    "    for r in range(R):\n",
    "        for c in range(C):\n",
    "            \n",
    "            if not np.isnan(adjacency_matrix[r, c]):\n",
    "                continue\n",
    "            \n",
    "            adjacency_matrix[r, c] = p(r, c)\n",
    "    \n",
    "    return adjacency_matrix"
   ]
  },
  {
   "cell_type": "code",
   "execution_count": 75,
   "id": "cee2e3d4",
   "metadata": {},
   "outputs": [],
   "source": [
    "with open(\"/Users/karthikeyansaravanan/Downloads/drive-download-20230720T205545Z-001/6_28_2023 Anonymized Theme Versions.json\", \"r\") as f:\n",
    "    theme_versions = json.load(f)"
   ]
  },
  {
   "cell_type": "code",
   "execution_count": 76,
   "id": "87d709ef",
   "metadata": {},
   "outputs": [],
   "source": [
    "with jsonlines.open(\"/Users/karthikeyansaravanan/Downloads/drive-download-20230720T205545Z-001/6_28_2023 TLD Export.json\", \"r\") as reader:\n",
    "    tlds = [line for line in reader]"
   ]
  },
  {
   "cell_type": "code",
   "execution_count": 77,
   "id": "420f9616",
   "metadata": {},
   "outputs": [],
   "source": [
    "annotations = []"
   ]
  },
  {
   "cell_type": "code",
   "execution_count": 78,
   "id": "1861c8f5",
   "metadata": {},
   "outputs": [],
   "source": [
    "with jsonlines.open(\"/Users/karthikeyansaravanan/Downloads/drive-download-20230720T205545Z-001/6_28_2023 Anonymized Annotations.jsonl\", \"r\") as reader:\n",
    "    for line in reader:\n",
    "        annotations.append(line)"
   ]
  },
  {
   "cell_type": "code",
   "execution_count": 79,
   "id": "40b67afd",
   "metadata": {},
   "outputs": [],
   "source": [
    "id_to_ann = {ann[\"u__id\"]: ann for ann in annotations}"
   ]
  },
  {
   "cell_type": "code",
   "execution_count": 80,
   "id": "a8625b59",
   "metadata": {},
   "outputs": [],
   "source": [
    "sentence_prediction = []\n",
    "with jsonlines.open(\"/Users/karthikeyansaravanan/Downloads/drive-download-20230720T205545Z-001/7_3_2023 Sentence Predictions.jsonl\", \"r\") as reader:\n",
    "    for line in reader:\n",
    "        sentence_prediction.append(line)"
   ]
  },
  {
   "cell_type": "code",
   "execution_count": 81,
   "id": "03ca8d2f",
   "metadata": {},
   "outputs": [],
   "source": [
    "# Research Question ID\n",
    "research_question_id = \"jfRAo4TJxJ3BIRBkh25T\""
   ]
  },
  {
   "cell_type": "code",
   "execution_count": 82,
   "id": "d4311514",
   "metadata": {},
   "outputs": [],
   "source": [
    "theme_versions = list(filter(lambda theme_version: theme_version[\"u__authorId\"] != \"DEFAULT\" and theme_version[\"u__researchQuestionId\"] == research_question_id, theme_versions))"
   ]
  },
  {
   "cell_type": "code",
   "execution_count": 83,
   "id": "2eb6759f",
   "metadata": {},
   "outputs": [],
   "source": [
    "# Filter relevant sentences based on the research question ID\n",
    "relevant_sentences = set() ## CHANGED THIS TO A SET, BECAUSE DUE TO SOME ISSUES SOMETIMES CONSECUTIVE SENTENCEPREDICTIONS HIGHLIGHT THE SAME SENTENCE (but always with the same value of isRelevant, which was causing duplicates)\n",
    "for entry in sentence_prediction:\n",
    "    if entry['u__researchQuestionId'] == research_question_id:\n",
    "        transcript_id = entry['u__transcriptId']\n",
    "        sentence_chunks = entry['u_sentenceChunks']\n",
    "        relevant_pairs = set() ## SAME REASON AS ABOVE\n",
    "        for chunk in sentence_chunks:\n",
    "            is_relevant = chunk.get('isRelevant', False)\n",
    "            if is_relevant:\n",
    "                start_line = int(chunk['start'])\n",
    "                end_line = int(chunk['end'])\n",
    "                for line in range(start_line, end_line + 1):\n",
    "                   relevant_pairs.add((transcript_id, line))\n",
    "\n",
    "        relevant_sentences = relevant_sentences.union(relevant_pairs)\n",
    "\n",
    "relevant_sentences = list(relevant_sentences)"
   ]
  },
  {
   "cell_type": "code",
   "execution_count": 84,
   "id": "10c56fc2",
   "metadata": {},
   "outputs": [],
   "source": [
    "# Assign an index to each pair of sentences\n",
    "sentence_index = {}\n",
    "index = 0\n",
    "for i1 in range(len(relevant_sentences)):\n",
    "    sent1 = relevant_sentences[i1]\n",
    "    for i2 in range(i1 + 1, len(relevant_sentences)):\n",
    "        sent2 = relevant_sentences[i2]\n",
    "        sentence_index[(sent1, sent2)] = index\n",
    "        sentence_index[(sent2, sent1)] = index\n",
    "        index += 1"
   ]
  },
  {
   "cell_type": "code",
   "execution_count": 85,
   "id": "a3cb6965",
   "metadata": {},
   "outputs": [],
   "source": [
    "# Get the unique author IDs from theme versions\n",
    "author_ids = set(theme_version['u__authorId'] for theme_version in theme_versions)"
   ]
  },
  {
   "cell_type": "code",
   "execution_count": 86,
   "id": "55bb659e",
   "metadata": {},
   "outputs": [],
   "source": [
    "# Create the annotator index\n",
    "author_index = {author_id: i for i, author_id in enumerate(author_ids)}"
   ]
  },
  {
   "cell_type": "code",
   "execution_count": 87,
   "id": "c13ac8b5",
   "metadata": {},
   "outputs": [],
   "source": [
    "# Calculate the number of relevant sentences\n",
    "n = len(relevant_sentences)"
   ]
  },
  {
   "cell_type": "code",
   "execution_count": 88,
   "id": "6498fd00",
   "metadata": {},
   "outputs": [],
   "source": [
    "# Calculate the number of pairs\n",
    "I = len(sentence_index)\n",
    "assert I == n * (n - 1), (I, n * (n - 1)) ## THIS WAS NOT PASSING BEFORE, AS THERE WERE DUPLICATE LINES IN RELEVANT SENTENCES"
   ]
  },
  {
   "cell_type": "code",
   "execution_count": 89,
   "id": "7797f9c0",
   "metadata": {},
   "outputs": [
    {
     "name": "stdout",
     "output_type": "stream",
     "text": [
      "Graph will have at most 687 nodes and at most 471282 edges\n"
     ]
    }
   ],
   "source": [
    "print(\"Graph will have at most\", n, \"nodes and at most\", I, \"edges\")"
   ]
  },
  {
   "cell_type": "code",
   "execution_count": 90,
   "id": "3de57383",
   "metadata": {},
   "outputs": [],
   "source": [
    "J = 2\n",
    "K = len(author_ids)"
   ]
  },
  {
   "cell_type": "code",
   "execution_count": 91,
   "id": "1ec3db8f",
   "metadata": {},
   "outputs": [],
   "source": [
    "# Initialize the N matrix\n",
    "N = np.array([[[0 for _ in range(K)] for _ in range(J)] for _ in range(I)])"
   ]
  },
  {
   "cell_type": "code",
   "execution_count": 92,
   "id": "198d742b",
   "metadata": {},
   "outputs": [
    {
     "name": "stderr",
     "output_type": "stream",
     "text": [
      "100%|███████████████████████████████████████████| 55/55 [03:04<00:00,  3.35s/it]\n"
     ]
    }
   ],
   "source": [
    "# Process theme versions and annotations\n",
    "for theme_version_index in tqdm(range(len(theme_versions))):\n",
    "    theme_version = theme_versions[theme_version_index]\n",
    "    # Store all annotations for this themeVersion, as well as which theme each one is assigned to.\n",
    "    tv_annotations = []\n",
    "    annotation_to_theme = dict()\n",
    "\n",
    "    for theme_index, theme in enumerate(theme_version[\"structure\"]):\n",
    "        # Store all annotations from this theme and its subthemes for this themeVersion:\n",
    "        tv_annotations += theme[\"u__annotationIds\"]\n",
    "        for subtheme in theme[\"children\"]:\n",
    "            tv_annotations += subtheme[\"u__annotationIds\"]\n",
    "\n",
    "            # Assign all annotations from this theme and its subthemes to this theme:\n",
    "            for ann in theme[\"u__annotationIds\"]:\n",
    "                annotation_to_theme[ann] = theme_index\n",
    "\n",
    "            for subtheme in theme[\"children\"]:\n",
    "                for ann in subtheme[\"u__annotationIds\"]:\n",
    "                    annotation_to_theme[ann] = theme_index\n",
    "\n",
    "    # Iterate through all tv_annotations (including tv_ann_1_id)\n",
    "    for tv_ann_1_id in tv_annotations:\n",
    "        # Skip if id not in id_to_ann\n",
    "        if tv_ann_1_id not in id_to_ann:\n",
    "            continue\n",
    "\n",
    "        # Get the annotation tv_ann_1 from id_to_ann\n",
    "        tv_ann_1 = id_to_ann[tv_ann_1_id]\n",
    "\n",
    "        # Access the startLine and endLine from _indices and convert them to int\n",
    "        start_line_tv_ann_1 = int(tv_ann_1[\"u_indices\"][\"startLine\"])\n",
    "        end_line_tv_ann_1 = int(tv_ann_1[\"u_indices\"][\"endLine\"])\n",
    "\n",
    "        # Iterate through all tv_annotations (including tv_ann_1_id) again\n",
    "        for tv_ann_2_id in tv_annotations:\n",
    "            # Skip if id not in id_to_ann\n",
    "            if tv_ann_2_id not in id_to_ann:\n",
    "                continue\n",
    "\n",
    "            # Get the annotation tv_ann_2 from id_to_ann\n",
    "            tv_ann_2 = id_to_ann[tv_ann_2_id]\n",
    "\n",
    "            # Access the startLine and endLine from _indices and convert them to int\n",
    "            start_line_tv_ann_2 = int(tv_ann_2[\"u_indices\"][\"startLine\"])\n",
    "            end_line_tv_ann_2 = int(tv_ann_2[\"u_indices\"][\"endLine\"])\n",
    "\n",
    "            # Iterate through all lines highlighted by annotation tv_ann_1\n",
    "            for line_tv_ann_1 in range(start_line_tv_ann_1, end_line_tv_ann_1 + 1):\n",
    "                # Iterate through all lines highlighted by annotation tv_ann_2\n",
    "                for line_tv_ann_2 in range(start_line_tv_ann_2, end_line_tv_ann_2 + 1):\n",
    "                    # Skip if they're the same\n",
    "                    if line_tv_ann_1 == line_tv_ann_2:\n",
    "                        continue\n",
    "                        \n",
    "\n",
    "                    # Find i (the sentence index for this pair of lines from the two loops)\n",
    "                    pair_x = (tv_ann_1[\"u__transcriptId\"], line_tv_ann_1)\n",
    "                    pair_y = (tv_ann_2[\"u__transcriptId\"], line_tv_ann_2)\n",
    "                    if pair_x not in relevant_sentences or pair_y not in relevant_sentences:\n",
    "                        continue\n",
    "                    i = sentence_index[(pair_x, pair_y)]\n",
    "\n",
    "                    # Find k (the author index of the person who created this themeVersion)\n",
    "                    k = author_index.get(theme_version[\"u__authorId\"], -1)\n",
    "\n",
    "                    # If tv_ann_1 and tv_ann_2 are in the same theme, set N[i][1][k] = 1, else set N[i][0][k] = 1\n",
    "                    theme_tv_ann_1 = annotation_to_theme.get(tv_ann_1_id)\n",
    "                    theme_tv_ann_2 = annotation_to_theme.get(tv_ann_2_id)\n",
    "                    if theme_tv_ann_1 and theme_tv_ann_2 and theme_tv_ann_1 == theme_tv_ann_2:\n",
    "                        N[i][1][k] += 1\n",
    "                    else:\n",
    "                        N[i][0][k] += 1"
   ]
  },
  {
   "cell_type": "code",
   "execution_count": 93,
   "id": "82f47f16",
   "metadata": {},
   "outputs": [],
   "source": [
    "# This assertion should pass, indicating that you have filled in some entries\n",
    "assert np.sum(N) != 0"
   ]
  },
  {
   "cell_type": "code",
   "execution_count": 94,
   "id": "7a612693",
   "metadata": {},
   "outputs": [
    {
     "name": "stdout",
     "output_type": "stream",
     "text": [
      "Number of pairs with zero labels: 286790\n"
     ]
    }
   ],
   "source": [
    "# Find pairs of sentences with zero labels and get their indices\n",
    "zero_labels_indices = set(np.where(np.sum(N, axis=(1, 2)) == 0)[0])\n",
    "\n",
    "print(\"Number of pairs with zero labels:\", len(zero_labels_indices))"
   ]
  },
  {
   "cell_type": "code",
   "execution_count": 95,
   "id": "b68d07ef",
   "metadata": {},
   "outputs": [],
   "source": [
    "# Create a mapping for sentence index without zero labels\n",
    "# Maps from previous sentence index to updated index\n",
    "updated_sentence_index = {}\n",
    "updated_index = 0\n",
    "\n",
    "for i in range(I):\n",
    "    # If row i has labels, the next entry in the updated_sentence_index is given to it. Else, the row will not be a key in the updated_sent_index at all.\n",
    "    if i not in zero_labels_indices:\n",
    "        updated_sentence_index[i] = updated_index\n",
    "        updated_index += 1"
   ]
  },
  {
   "cell_type": "code",
   "execution_count": 96,
   "id": "a5029a5b",
   "metadata": {},
   "outputs": [],
   "source": [
    "# Filter rows with zero labels and update sentence_index\n",
    "N = N[list(updated_sentence_index.keys())]\n",
    "# sentence_index: (sentence pair) => updated row if the sentence pair had labels\n",
    "sentence_index = {k: updated_sentence_index[v] for k, v in sentence_index.items() if v not in zero_labels_indices}"
   ]
  },
  {
   "cell_type": "code",
   "execution_count": 97,
   "id": "aec6c3f7",
   "metadata": {},
   "outputs": [],
   "source": [
    "# Call the dawid_skene function with the updated 3D array N\n",
    "predictions = dawid_skene(N)"
   ]
  },
  {
   "cell_type": "code",
   "execution_count": 98,
   "id": "b12b6519",
   "metadata": {},
   "outputs": [],
   "source": [
    "# Get the pairs of sentences predicted to be similar and different\n",
    "similar_pairs = []\n",
    "different_pairs = []"
   ]
  },
  {
   "cell_type": "code",
   "execution_count": 99,
   "id": "1c9845c9",
   "metadata": {},
   "outputs": [],
   "source": [
    "# Load the TLD Export JSON\n",
    "with jsonlines.open(\"/Users/karthikeyansaravanan/Downloads/drive-download-20230720T205545Z-001/6_28_2023 TLD Export.json\", \"r\") as tld_reader:\n",
    "    tld_export = list(tld_reader)"
   ]
  },
  {
   "cell_type": "code",
   "execution_count": 100,
   "id": "8f98438d",
   "metadata": {},
   "outputs": [],
   "source": [
    "# Create a dictionary to store lines for each transcript\n",
    "transcript_lines = {(transcriptL[\"u__transcriptId\"], int(line[\"u__lineNumber\"])): line[\"text\"] for transcriptL in tld_export for line in transcriptL[\"lines\"]}"
   ]
  },
  {
   "cell_type": "code",
   "execution_count": 101,
   "id": "c0a6b1e6",
   "metadata": {},
   "outputs": [],
   "source": [
    "# Get the pairs of sentences predicted to be similar and different\n",
    "similar_pairs = []\n",
    "different_pairs = []"
   ]
  },
  {
   "cell_type": "code",
   "execution_count": 102,
   "id": "0c820adf",
   "metadata": {},
   "outputs": [],
   "source": [
    "# Reverse the sentence_index dictionary\n",
    "reversed_sentence_index = {v: k for k, v in sentence_index.items()}\n",
    "\n",
    "updated_relevant_sentences = set()"
   ]
  },
  {
   "cell_type": "code",
   "execution_count": 103,
   "id": "9c94b61f",
   "metadata": {},
   "outputs": [],
   "source": [
    "# Create a new list to store updated relevant sentences\n",
    "for sent_pair in sentence_index.keys():\n",
    "    x, y = sent_pair\n",
    "    updated_relevant_sentences.add(x)\n",
    "    updated_relevant_sentences.add(y)\n",
    "\n",
    "updated_relevant_sentences = list(updated_relevant_sentences)\n",
    "sentence_to_row = {sent: row for row, sent in enumerate(updated_relevant_sentences)}\n",
    "nodes = len(updated_relevant_sentences)"
   ]
  },
  {
   "cell_type": "code",
   "execution_count": 104,
   "id": "b7ccc950",
   "metadata": {},
   "outputs": [],
   "source": [
    "## Generate Adjacency Matrix\n",
    "## Should be n x n\n",
    "## Should be all NaNs initially, then fill in each edge we know\n",
    "import numpy as np\n",
    "adjacency_matrix = np.ones((nodes, nodes))\n",
    "adjacency_matrix.fill(np.nan)\n",
    "\n",
    "for sent_pair, index in sentence_index.items():\n",
    "    x, y = sent_pair\n",
    "    adjacency_matrix[sentence_to_row[x], sentence_to_row[y]] = predictions[index]\n",
    "\n",
    "## Complete Adjacency Matrix\n",
    "## Display results"
   ]
  },
  {
   "cell_type": "code",
   "execution_count": 110,
   "id": "1118fe17",
   "metadata": {},
   "outputs": [
    {
     "name": "stdout",
     "output_type": "stream",
     "text": [
      "Completed Adjacency Matrix:\n",
      "[[0.58305648 1.         0.         ... 1.         1.         0.        ]\n",
      " [1.         0.54605263 0.         ... 1.         1.         0.        ]\n",
      " [0.         0.         0.00166667 ... 0.         0.         0.        ]\n",
      " ...\n",
      " [1.         1.         0.         ... 0.59605911 1.         0.        ]\n",
      " [1.         1.         0.         ... 1.         0.59210526 0.        ]\n",
      " [0.         0.         0.         ... 0.         0.         0.04590164]]\n"
     ]
    }
   ],
   "source": [
    "import numpy as np\n",
    "\n",
    "# Assuming you already have the `adjacency_matrix` filled with NaNs and the `predictions` array\n",
    "\n",
    "# Compute the mean of each row (ignoring NaNs)\n",
    "row_means = np.nanmean(adjacency_matrix, axis=1)\n",
    "\n",
    "# Get the indices of NaN values in the adjacency_matrix\n",
    "nan_indices = np.isnan(adjacency_matrix)\n",
    "\n",
    "# Replace NaN values with row means\n",
    "adjacency_matrix[nan_indices] = np.take(row_means, np.where(nan_indices)[0])\n",
    "\n",
    "# Display the completed adjacency matrix\n",
    "print(\"Completed Adjacency Matrix:\")\n",
    "print(adjacency_matrix)"
   ]
  },
  {
   "cell_type": "code",
   "execution_count": 120,
   "id": "81cb085d",
   "metadata": {},
   "outputs": [
    {
     "name": "stdout",
     "output_type": "stream",
     "text": [
      "Clusters:\n",
      "Cluster 0: [0, 1, 6, 8, 12, 14, 15, 16, 17, 22, 23, 24, 27, 28, 29, 31, 34, 37, 39, 40, 42, 44, 46, 54, 55, 56, 61, 69, 72, 73, 76, 77, 83, 85, 86, 87, 92, 94, 96, 97, 101, 102, 106, 107, 109, 112, 114, 115, 119, 122, 123, 125, 130, 131, 134, 139, 145, 150, 151, 152, 156, 164, 165, 167, 168, 169, 171, 174, 175, 185, 190, 193, 199, 204, 209, 223, 224, 228, 235, 237, 247, 252, 253, 255, 256, 260, 261, 264, 273, 274, 276, 277, 281, 282, 283, 286, 288, 290, 293, 296, 297, 299, 300, 305, 306, 311, 312, 313, 318, 322, 324, 330, 331, 334, 336, 337, 339, 340, 342, 344, 346, 349, 350, 353, 356, 358, 359, 362, 363, 364, 366, 369, 371, 376, 377, 378, 382, 384, 385, 388, 389, 392, 393, 397, 400, 404, 407, 411, 413, 414, 417, 426, 429, 430, 432, 434, 436, 440, 442, 443, 444, 445, 454, 460, 462, 464, 465, 467, 469, 472, 473, 475, 486, 487, 489, 490, 495, 498, 501, 502, 516, 524, 525, 529, 532, 535, 536, 544, 548, 549, 552, 558, 571, 572, 574, 576, 579, 582, 584, 587, 589, 595, 597, 598, 602]\n",
      "Cluster 3: [2, 9, 10, 20, 21, 30, 33, 36, 47, 48, 49, 58, 66, 68, 71, 78, 82, 88, 91, 93, 100, 105, 108, 110, 111, 113, 118, 120, 121, 126, 129, 133, 135, 136, 138, 140, 146, 149, 153, 154, 155, 157, 158, 159, 160, 162, 166, 172, 176, 178, 180, 181, 183, 186, 189, 191, 194, 200, 202, 205, 207, 208, 211, 213, 214, 215, 216, 217, 225, 226, 230, 233, 234, 236, 238, 241, 242, 244, 245, 248, 249, 250, 254, 257, 258, 259, 265, 266, 267, 268, 269, 279, 280, 284, 289, 291, 292, 294, 298, 301, 303, 304, 308, 309, 316, 319, 325, 327, 328, 341, 343, 345, 347, 348, 352, 354, 357, 360, 367, 370, 373, 374, 375, 380, 387, 391, 394, 395, 396, 398, 403, 405, 408, 409, 412, 416, 422, 423, 424, 428, 431, 438, 439, 441, 447, 449, 450, 451, 452, 453, 456, 458, 461, 463, 466, 470, 474, 478, 479, 480, 481, 482, 484, 491, 493, 494, 497, 499, 503, 505, 506, 509, 510, 512, 514, 515, 517, 522, 530, 531, 534, 537, 538, 539, 541, 543, 545, 553, 554, 556, 557, 559, 560, 563, 566, 567, 570, 573, 578, 580, 581, 586, 588, 594, 600, 601, 604, 605, 606, 611]\n",
      "Cluster 2: [3, 4, 5, 7, 11, 13, 18, 19, 25, 26, 32, 35, 38, 41, 43, 45, 50, 51, 57, 59, 60, 62, 63, 64, 65, 67, 74, 75, 79, 80, 81, 84, 89, 90, 98, 99, 103, 104, 117, 124, 127, 128, 132, 137, 141, 142, 143, 144, 147, 148, 161, 163, 170, 173, 177, 179, 182, 184, 187, 188, 195, 196, 198, 201, 203, 206, 210, 212, 218, 219, 220, 221, 222, 227, 229, 231, 232, 239, 240, 243, 246, 251, 262, 263, 270, 271, 272, 278, 285, 287, 295, 302, 307, 310, 314, 315, 317, 320, 321, 323, 326, 329, 332, 333, 335, 338, 351, 355, 365, 368, 372, 379, 381, 383, 390, 399, 401, 402, 406, 415, 419, 420, 421, 425, 427, 435, 437, 446, 448, 455, 457, 459, 468, 471, 476, 477, 483, 485, 488, 492, 496, 500, 504, 507, 508, 511, 513, 518, 519, 520, 521, 523, 527, 528, 533, 540, 542, 546, 547, 550, 551, 561, 562, 564, 565, 568, 569, 575, 577, 583, 585, 590, 591, 592, 593, 596, 599, 603, 607, 608, 609, 610]\n",
      "Cluster 1: [52, 53, 70, 95, 116, 192, 275, 361, 386, 410, 418, 433, 526, 555]\n",
      "Cluster 4: [197]\n"
     ]
    }
   ],
   "source": [
    "import numpy as np\n",
    "import networkx as nx\n",
    "import community\n",
    "\n",
    "# Assuming you already have the `adjacency_matrix` filled with values and the `nodes` variable defined.\n",
    "\n",
    "# Convert the adjacency matrix to a networkx graph\n",
    "G = nx.from_numpy_matrix(adjacency_matrix)\n",
    "\n",
    "# Run the Louvain method to detect communities\n",
    "partition = community.best_partition(G)\n",
    "\n",
    "# Set a random seed for reproducibility\n",
    "np.random.seed(42)\n",
    "\n",
    "# Print the clusters\n",
    "clusters = {}\n",
    "for node, cluster_id in partition.items():\n",
    "    if cluster_id not in clusters:\n",
    "        clusters[cluster_id] = [node]\n",
    "    else:\n",
    "        clusters[cluster_id].append(node)\n",
    "\n",
    "print(\"Clusters:\")\n",
    "for cluster_id, nodes in clusters.items():\n",
    "    print(f\"Cluster {cluster_id}: {nodes}\")"
   ]
  },
  {
   "cell_type": "code",
   "execution_count": 121,
   "id": "67c0d956",
   "metadata": {},
   "outputs": [
    {
     "name": "stderr",
     "output_type": "stream",
     "text": [
      "*c* argument looks like a single numeric RGB or RGBA sequence, which should be avoided as value-mapping will have precedence in case its length matches with *x* & *y*.  Please use the *color* keyword-argument or provide a 2D array with a single row if you intend to specify the same RGB or RGBA value for all points.\n",
      "*c* argument looks like a single numeric RGB or RGBA sequence, which should be avoided as value-mapping will have precedence in case its length matches with *x* & *y*.  Please use the *color* keyword-argument or provide a 2D array with a single row if you intend to specify the same RGB or RGBA value for all points.\n",
      "*c* argument looks like a single numeric RGB or RGBA sequence, which should be avoided as value-mapping will have precedence in case its length matches with *x* & *y*.  Please use the *color* keyword-argument or provide a 2D array with a single row if you intend to specify the same RGB or RGBA value for all points.\n",
      "*c* argument looks like a single numeric RGB or RGBA sequence, which should be avoided as value-mapping will have precedence in case its length matches with *x* & *y*.  Please use the *color* keyword-argument or provide a 2D array with a single row if you intend to specify the same RGB or RGBA value for all points.\n"
     ]
    },
    {
     "data": {
      "image/png": "[encoded data removed]",
      "text/plain": [
       "<Figure size 432x288 with 1 Axes>"
      ]
     },
     "metadata": {},
     "output_type": "display_data"
    }
   ],
   "source": [
    "import numpy as np\n",
    "import networkx as nx\n",
    "import community\n",
    "import matplotlib.pyplot as plt\n",
    "\n",
    "# Assuming you already have the `adjacency_matrix` filled with values and the `nodes` variable defined.\n",
    "\n",
    "# Convert the adjacency matrix to a networkx graph\n",
    "G = nx.from_numpy_matrix(adjacency_matrix)\n",
    "\n",
    "# Run the Louvain method to detect communities\n",
    "partition = community.best_partition(G)\n",
    "\n",
    "# Set a random seed for reproducibility\n",
    "np.random.seed(42)\n",
    "\n",
    "# Create a list of colors for each cluster\n",
    "num_clusters = max(partition.values()) + 1\n",
    "colors = plt.cm.tab20b(np.linspace(0, 1, num_clusters))\n",
    "\n",
    "# Draw the graph with different colors for each cluster\n",
    "pos = nx.spring_layout(G)  # You can use other layout algorithms as well\n",
    "for cluster_id, color in zip(range(num_clusters), colors):\n",
    "    nodes = [node for node in partition.keys() if partition[node] == cluster_id]\n",
    "    nx.draw_networkx_nodes(G, pos, nodelist=nodes, node_color=color, node_size=200, label=f\"Cluster {cluster_id}\")\n",
    "\n",
    "nx.draw_networkx_edges(G, pos, alpha=0.5)\n",
    "plt.legend(loc=\"best\")\n",
    "plt.axis('off')\n",
    "plt.show()"
   ]
  },
  {
   "cell_type": "code",
   "execution_count": 115,
   "id": "7e9cd568",
   "metadata": {},
   "outputs": [
    {
     "name": "stdout",
     "output_type": "stream",
     "text": [
      "Cluster 0:\n"
     ]
    },
    {
     "ename": "KeyError",
     "evalue": "('E', 'R')",
     "output_type": "error",
     "traceback": [
      "\u001b[0;31m---------------------------------------------------------------------------\u001b[0m",
      "\u001b[0;31mKeyError\u001b[0m                                  Traceback (most recent call last)",
      "\u001b[0;32m/var/folders/8r/r1hs4tv1005c5fc4mz4cszlm0000gn/T/ipykernel_47789/429609710.py\u001b[0m in \u001b[0;36m<module>\u001b[0;34m\u001b[0m\n\u001b[1;32m      6\u001b[0m         \u001b[0mpair\u001b[0m \u001b[0;34m=\u001b[0m \u001b[0mrelevant_sentences\u001b[0m\u001b[0;34m[\u001b[0m\u001b[0mnode\u001b[0m\u001b[0;34m]\u001b[0m\u001b[0;34m\u001b[0m\u001b[0;34m\u001b[0m\u001b[0m\n\u001b[1;32m      7\u001b[0m \u001b[0;34m\u001b[0m\u001b[0m\n\u001b[0;32m----> 8\u001b[0;31m         \u001b[0mtext_x\u001b[0m \u001b[0;34m=\u001b[0m \u001b[0mtranscript_lines\u001b[0m\u001b[0;34m[\u001b[0m\u001b[0;34m(\u001b[0m\u001b[0mpair\u001b[0m\u001b[0;34m[\u001b[0m\u001b[0;36m0\u001b[0m\u001b[0;34m]\u001b[0m\u001b[0;34m[\u001b[0m\u001b[0;36m0\u001b[0m\u001b[0;34m]\u001b[0m\u001b[0;34m,\u001b[0m \u001b[0;34m(\u001b[0m\u001b[0mpair\u001b[0m\u001b[0;34m[\u001b[0m\u001b[0;36m0\u001b[0m\u001b[0;34m]\u001b[0m\u001b[0;34m[\u001b[0m\u001b[0;36m1\u001b[0m\u001b[0;34m]\u001b[0m\u001b[0;34m)\u001b[0m\u001b[0;34m)\u001b[0m\u001b[0;34m]\u001b[0m\u001b[0;34m\u001b[0m\u001b[0;34m\u001b[0m\u001b[0m\n\u001b[0m\u001b[1;32m      9\u001b[0m         \u001b[0mtext_y\u001b[0m \u001b[0;34m=\u001b[0m \u001b[0mtranscript_lines\u001b[0m\u001b[0;34m[\u001b[0m\u001b[0;34m(\u001b[0m\u001b[0mpair\u001b[0m\u001b[0;34m[\u001b[0m\u001b[0;36m1\u001b[0m\u001b[0;34m]\u001b[0m\u001b[0;34m[\u001b[0m\u001b[0;36m0\u001b[0m\u001b[0;34m]\u001b[0m\u001b[0;34m,\u001b[0m \u001b[0;34m(\u001b[0m\u001b[0mpair\u001b[0m\u001b[0;34m[\u001b[0m\u001b[0;36m1\u001b[0m\u001b[0;34m]\u001b[0m\u001b[0;34m[\u001b[0m\u001b[0;36m1\u001b[0m\u001b[0;34m]\u001b[0m\u001b[0;34m)\u001b[0m\u001b[0;34m)\u001b[0m\u001b[0;34m]\u001b[0m\u001b[0;34m\u001b[0m\u001b[0;34m\u001b[0m\u001b[0m\n\u001b[1;32m     10\u001b[0m         \u001b[0mprint\u001b[0m\u001b[0;34m(\u001b[0m\u001b[0;34mf\"Pair: {text_x} | {text_y}\"\u001b[0m\u001b[0;34m)\u001b[0m\u001b[0;34m\u001b[0m\u001b[0;34m\u001b[0m\u001b[0m\n",
      "\u001b[0;31mKeyError\u001b[0m: ('E', 'R')"
     ]
    }
   ],
   "source": [
    "# Print sentences corresponding to each cluster\n",
    "for cluster in range(num_clusters):\n",
    "    cluster_nodes = [node for node in G.nodes() if partition[node] == cluster]\n",
    "    print(f\"Cluster {cluster}:\")\n",
    "    for node in cluster_nodes:\n",
    "        pair = relevant_sentences[node]\n",
    "        \n",
    "        text_x = transcript_lines[(pair[0][0], (pair[0][1]))]\n",
    "        text_y = transcript_lines[(pair[1][0], (pair[1][1]))]\n",
    "        print(f\"Pair: {text_x} | {text_y}\")\n",
    "    print(\"\\n\")"
   ]
  },
  {
   "cell_type": "code",
   "execution_count": null,
   "id": "9279972c",
   "metadata": {},
   "outputs": [],
   "source": []
  }
 ],
 "metadata": {
  "kernelspec": {
   "display_name": "Python 3 (ipykernel)",
   "language": "python",
   "name": "python3"
  },
  "language_info": {
   "codemirror_mode": {
    "name": "ipython",
    "version": 3
   },
   "file_extension": ".py",
   "mimetype": "text/x-python",
   "name": "python",
   "nbconvert_exporter": "python",
   "pygments_lexer": "ipython3",
   "version": "3.8.8"
  }
 },
 "nbformat": 4,
 "nbformat_minor": 5
}
